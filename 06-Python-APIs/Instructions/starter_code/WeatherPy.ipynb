{
 "cells": [
  {
   "cell_type": "markdown",
   "metadata": {},
   "source": [
    "# WeatherPy\n",
    "----\n",
    "\n",
    "#### Note\n",
    "* Instructions have been included for each segment. You do not have to follow them exactly, but they are included to help you think through the steps."
   ]
  },
  {
   "cell_type": "code",
   "execution_count": 4,
   "metadata": {
    "scrolled": true
   },
   "outputs": [],
   "source": [
    "# Dependencies and Setup\n",
    "import matplotlib.pyplot as plt\n",
    "import pandas as pd\n",
    "import numpy as np\n",
    "import requests\n",
    "import time\n",
    "from scipy.stats import linregress\n",
    "import requests\n",
    "import json\n",
    "import scipy.stats as st\n",
    "\n",
    "# Import API key\n",
    "from api_keys import weather_api_key\n",
    "\n",
    "# Incorporated citipy to determine city based on latitude and longitude\n",
    "from citipy import citipy\n",
    "\n",
    "# Output File (CSV)\n",
    "output_data_file = \"output_data/cities.csv\"\n",
    "\n",
    "# Range of latitudes and longitudes\n",
    "lat_range = (-90, 90)\n",
    "lng_range = (-180, 180)"
   ]
  },
  {
   "cell_type": "markdown",
   "metadata": {},
   "source": [
    "## Generate Cities List"
   ]
  },
  {
   "cell_type": "code",
   "execution_count": 5,
   "metadata": {},
   "outputs": [
    {
     "data": {
      "text/plain": [
       "605"
      ]
     },
     "execution_count": 5,
     "metadata": {},
     "output_type": "execute_result"
    }
   ],
   "source": [
    "# List for holding lat_lngs and cities\n",
    "lat_lngs = []\n",
    "cities = []\n",
    "\n",
    "# Create a set of random lat and lng combinations\n",
    "lats = np.random.uniform(lat_range[0], lat_range[1], size=1500)\n",
    "lngs = np.random.uniform(lng_range[0], lng_range[1], size=1500)\n",
    "lat_lngs = zip(lats, lngs)\n",
    "\n",
    "# Identify nearest city for each lat, lng combination\n",
    "for lat_lng in lat_lngs:\n",
    "    city = citipy.nearest_city(lat_lng[0], lat_lng[1]).city_name\n",
    "    \n",
    "    # If the city is unique, then add it to a our cities list\n",
    "    if city not in cities:\n",
    "        cities.append(city)\n",
    "\n",
    "# Print the city count to confirm sufficient count\n",
    "len(cities)"
   ]
  },
  {
   "cell_type": "code",
   "execution_count": 34,
   "metadata": {},
   "outputs": [],
   "source": [
    "# save config information.\n",
    "url =\"http://api.openweathermap.org/data/2.5/weather?\"\n",
    "units=\"imperial\""
   ]
  },
  {
   "cell_type": "code",
   "execution_count": 35,
   "metadata": {},
   "outputs": [
    {
     "data": {
      "text/plain": [
       "'http://api.openweathermap.org/data/2.5/weather?appid=36d27378545f7daafa9d3ff4e9ef2e7a&units=imperial&q='"
      ]
     },
     "execution_count": 35,
     "metadata": {},
     "output_type": "execute_result"
    }
   ],
   "source": [
    "new_city=[]\n",
    "lat=[]         \n",
    "lng=[]           \n",
    "max_temp=[]    \n",
    "humidity =[]     \n",
    "cloudiness =[] \n",
    "wind_speed =[]   \n",
    "country =[]      \n",
    "date  =[]   \n",
    "index_counter=0\n",
    "set_counter=1\n",
    "\n",
    "query_url=(f\"{url}appid={weather_api_key}&units={units}&q=\")\n",
    "query_url"
   ]
  },
  {
   "cell_type": "code",
   "execution_count": null,
   "metadata": {},
   "outputs": [
    {
     "name": "stdout",
     "output_type": "stream",
     "text": [
      "Beginning Data Retrieval\n",
      "------------------------\n",
      "Processing 1 of set 1:jamestown\n",
      "Processing 2 of set 1:qeshm\n",
      "Processing 3 of set 1:gushikawa\n",
      "Processing 4 of set 1:arraial do cabo\n",
      "Processing 5 of set 1:mezhova\n",
      "Processing 6 of set 1:qaanaaq\n",
      "Processing 7 of set 1:hermanus\n",
      "Another one!\n",
      "Processing 8 of set 1:brewster\n",
      "Processing 9 of set 1:hobart\n",
      "Processing 10 of set 1:ilulissat\n",
      "Processing 11 of set 1:yeppoon\n",
      "Processing 12 of set 1:ossora\n",
      "Processing 13 of set 1:obo\n",
      "Processing 14 of set 1:ponta do sol\n",
      "Processing 15 of set 1:lagoa\n",
      "Processing 16 of set 1:airai\n",
      "Processing 17 of set 1:busselton\n",
      "Processing 18 of set 1:berdsk\n",
      "Processing 19 of set 1:hofn\n",
      "Processing 20 of set 1:sakakah\n",
      "Processing 21 of set 1:rikitea\n",
      "Processing 22 of set 1:kodiak\n",
      "Processing 23 of set 1:cape town\n",
      "Processing 24 of set 1:avera\n",
      "Processing 25 of set 1:ucluelet\n",
      "Processing 26 of set 1:coahuayana\n",
      "Processing 27 of set 1:navirai\n",
      "Processing 28 of set 1:tiksi\n",
      "Processing 29 of set 1:agadez\n",
      "Processing 30 of set 1:kaitangata\n",
      "Processing 31 of set 1:tokur\n",
      "Processing 32 of set 1:punta arenas\n",
      "Processing 33 of set 1:geraldton\n",
      "Another one!\n",
      "Processing 34 of set 1:podhum\n",
      "Processing 35 of set 1:yulara\n",
      "Processing 36 of set 1:chokurdakh\n",
      "Processing 37 of set 1:bilibino\n",
      "Processing 38 of set 1:bluff\n",
      "Processing 39 of set 1:ushuaia\n",
      "Processing 40 of set 1:port alfred\n",
      "Processing 41 of set 1:cherskiy\n",
      "Processing 42 of set 1:nikolskoye\n",
      "Processing 43 of set 1:zyryanka\n",
      "Processing 44 of set 1:leningradskiy\n",
      "Another one!\n",
      "Processing 45 of set 1:albany\n",
      "Processing 46 of set 1:ust-omchug\n",
      "Another one!\n",
      "Processing 47 of set 1:grand-santi\n",
      "Processing 48 of set 1:chuy\n",
      "Another one!\n",
      "Processing 49 of set 1:meadow lake\n",
      "Processing 50 of set 1:kazachinskoye\n",
      "Processing 51 of set 1:verkh-usugli\n",
      "Processing 52 of set 1:saint george\n",
      "Processing 53 of set 1:barrow\n",
      "Processing 54 of set 1:arman\n",
      "Processing 55 of set 1:wuda\n",
      "Processing 56 of set 1:eyl\n",
      "Processing 57 of set 1:plainfield\n",
      "Processing 58 of set 1:hithadhoo\n",
      "Processing 59 of set 1:ostrovnoy\n",
      "Processing 60 of set 1:puerto escondido\n",
      "Processing 61 of set 1:jalu\n",
      "Another one!\n",
      "Processing 62 of set 1:yellowknife\n",
      "Processing 63 of set 1:manokwari\n",
      "Processing 64 of set 1:khasan\n",
      "Processing 65 of set 1:pevek\n",
      "Processing 66 of set 1:christchurch\n",
      "Processing 67 of set 1:saint-philippe\n",
      "Processing 68 of set 1:harlingen\n",
      "Processing 69 of set 1:khatanga\n",
      "Processing 70 of set 1:lebu\n",
      "Processing 71 of set 1:nome\n",
      "Processing 72 of set 1:cosenza\n",
      "Processing 73 of set 1:jardim\n",
      "Processing 74 of set 1:stokmarknes\n",
      "Processing 75 of set 1:saskylakh\n",
      "Processing 76 of set 1:marang\n",
      "Another one!\n",
      "Processing 77 of set 1:ayna\n",
      "Processing 78 of set 1:lyantonde\n",
      "Processing 79 of set 1:khao wong\n",
      "Processing 80 of set 1:carnarvon\n",
      "Processing 81 of set 1:port lincoln\n",
      "Another one!\n",
      "Processing 82 of set 1:port elizabeth\n",
      "Processing 83 of set 1:mataura\n",
      "Processing 84 of set 1:champerico\n",
      "Processing 85 of set 1:aligudarz\n",
      "Processing 86 of set 1:pacific grove\n",
      "Processing 87 of set 1:walvis bay\n",
      "Processing 88 of set 1:chicama\n",
      "Processing 89 of set 1:avarua\n",
      "Processing 90 of set 1:provideniya\n",
      "Processing 91 of set 1:sao jose do belmonte\n",
      "Processing 92 of set 1:fort frances\n",
      "Processing 93 of set 1:dikson\n",
      "Processing 94 of set 1:nhulunbuy\n",
      "Processing 95 of set 1:vaini\n",
      "Processing 96 of set 1:peniche\n",
      "Processing 97 of set 1:billings\n",
      "Processing 98 of set 1:cabo san lucas\n",
      "Processing 99 of set 1:havre-saint-pierre\n",
      "Processing 100 of set 1:balgarovo\n",
      "Processing 0 of set 2:hilo\n",
      "Processing 1 of set 2:vao\n",
      "Processing 2 of set 2:krasnoye\n",
      "Processing 3 of set 2:dawson creek\n",
      "Processing 4 of set 2:alpatovo\n",
      "Processing 5 of set 2:samarkand\n",
      "Processing 6 of set 2:tuatapere\n",
      "Another one!\n",
      "Processing 7 of set 2:the valley\n",
      "Processing 8 of set 2:sanandaj\n",
      "Processing 9 of set 2:shagonar\n",
      "Processing 10 of set 2:imbituba\n",
      "Processing 11 of set 2:thompson\n",
      "Processing 12 of set 2:vardo\n",
      "Processing 13 of set 2:tuktoyaktuk\n",
      "Processing 14 of set 2:atar\n",
      "Processing 15 of set 2:castro\n",
      "Processing 16 of set 2:narsaq\n",
      "Processing 17 of set 2:olavarria\n",
      "Processing 18 of set 2:kushmurun\n",
      "Processing 19 of set 2:cururupu\n",
      "Processing 20 of set 2:paamiut\n",
      "Processing 21 of set 2:waingapu\n",
      "Processing 22 of set 2:olafsvik\n",
      "Processing 23 of set 2:mar del plata\n",
      "Processing 24 of set 2:puerto ayora\n",
      "Processing 25 of set 2:debre sina\n",
      "Processing 26 of set 2:colares\n",
      "Processing 27 of set 2:new norfolk\n",
      "Processing 28 of set 2:bredasdorp\n",
      "Processing 29 of set 2:xining\n",
      "Processing 30 of set 2:constitucion\n",
      "Processing 31 of set 2:borisovka\n",
      "Processing 32 of set 2:verkhoyansk\n",
      "Processing 33 of set 2:alta floresta\n",
      "Processing 34 of set 2:matara\n",
      "Processing 35 of set 2:quatre cocos\n",
      "Processing 36 of set 2:bathsheba\n",
      "Processing 37 of set 2:dawlatabad\n",
      "Processing 38 of set 2:rawlins\n",
      "Processing 39 of set 2:sokoni\n",
      "Processing 40 of set 2:olga\n",
      "Processing 41 of set 2:mount gambier\n",
      "Processing 42 of set 2:marawi\n",
      "Processing 43 of set 2:sadri\n",
      "Another one!\n",
      "Processing 44 of set 2:dingle\n",
      "Processing 45 of set 2:soanierana ivongo\n",
      "Processing 46 of set 2:butaritari\n",
      "Processing 47 of set 2:vestmannaeyjar\n",
      "Processing 48 of set 2:farafangana\n",
      "Processing 49 of set 2:fukue\n",
      "Processing 50 of set 2:pemberton\n",
      "Processing 51 of set 2:astoria\n",
      "Processing 52 of set 2:mahebourg\n",
      "Another one!\n",
      "Processing 53 of set 2:voh\n",
      "Processing 54 of set 2:naze\n",
      "Processing 55 of set 2:kholtoson\n",
      "Processing 56 of set 2:guanica\n",
      "Processing 57 of set 2:smithers\n",
      "Processing 58 of set 2:puerto colombia\n",
      "Processing 59 of set 2:bethel\n",
      "Processing 60 of set 2:tomatlan\n",
      "Processing 61 of set 2:tasiilaq\n",
      "Processing 62 of set 2:port shepstone\n",
      "Processing 63 of set 2:kodinar\n",
      "Processing 64 of set 2:east london\n",
      "Another one!\n",
      "Processing 65 of set 2:staryy nadym\n",
      "Another one!\n",
      "Processing 66 of set 2:atuona\n",
      "Processing 67 of set 2:hammerfest\n",
      "Processing 68 of set 2:shetpe\n",
      "Processing 69 of set 2:batagay-alyta\n",
      "Processing 70 of set 2:esperance\n",
      "Processing 71 of set 2:barnsley\n",
      "Processing 72 of set 2:norman wells\n",
      "Processing 73 of set 2:biak\n",
      "Processing 74 of set 2:leh\n",
      "Another one!\n",
      "Processing 75 of set 2:antofagasta\n",
      "Processing 76 of set 2:fortuna\n",
      "Processing 77 of set 2:mansfield\n",
      "Processing 78 of set 2:longyearbyen\n",
      "Processing 79 of set 2:puerto leguizamo\n",
      "Processing 80 of set 2:broken hill\n",
      "Processing 81 of set 2:mata\n",
      "Processing 82 of set 2:severo-kurilsk\n",
      "Processing 83 of set 2:nyrob\n",
      "Processing 84 of set 2:havoysund\n",
      "Processing 85 of set 2:darnah\n",
      "Another one!\n",
      "Processing 86 of set 2:pangnirtung\n",
      "Processing 87 of set 2:lasa\n",
      "Processing 88 of set 2:grindavik\n",
      "Processing 89 of set 2:lata\n",
      "Processing 90 of set 2:vila velha\n",
      "Processing 91 of set 2:ayagoz\n",
      "Processing 92 of set 2:bengkulu\n",
      "Processing 93 of set 2:kaspiysk\n",
      "Another one!\n",
      "Processing 94 of set 2:alugan\n",
      "Processing 95 of set 2:forbes\n",
      "Processing 96 of set 2:fort nelson\n",
      "Processing 97 of set 2:traverse city\n",
      "Processing 98 of set 2:ahipara\n",
      "Processing 99 of set 2:la ronge\n",
      "Another one!\n",
      "Another one!\n",
      "Processing 100 of set 2:georgetown\n",
      "Processing 0 of set 3:nouadhibou\n",
      "Processing 1 of set 3:pringsewu\n",
      "Processing 2 of set 3:sitka\n",
      "Processing 3 of set 3:half moon bay\n",
      "Processing 4 of set 3:katherine\n",
      "Processing 5 of set 3:barcelona\n",
      "Processing 6 of set 3:katobu\n",
      "Processing 7 of set 3:saint-pierre\n",
      "Another one!\n",
      "Processing 8 of set 3:abu samrah\n",
      "Processing 9 of set 3:cairns\n",
      "Processing 10 of set 3:hasaki\n",
      "Processing 11 of set 3:yarada\n",
      "Processing 12 of set 3:knoxville\n",
      "Processing 13 of set 3:acajutla\n",
      "Processing 14 of set 3:torbay\n",
      "Processing 15 of set 3:campana\n",
      "Another one!\n",
      "Processing 16 of set 3:arlit\n",
      "Processing 17 of set 3:fare\n",
      "Processing 18 of set 3:umm lajj\n",
      "Processing 19 of set 3:swan hill\n",
      "Processing 20 of set 3:shitanjing\n",
      "Processing 21 of set 3:kaeo\n",
      "Processing 22 of set 3:sanguem\n",
      "Processing 23 of set 3:gympie\n",
      "Processing 24 of set 3:port moresby\n",
      "Processing 25 of set 3:kapaa\n",
      "Processing 26 of set 3:mogadishu\n",
      "Processing 27 of set 3:makakilo city\n",
      "Processing 28 of set 3:swellendam\n",
      "Processing 29 of set 3:beira\n",
      "Another one!\n",
      "Processing 30 of set 3:pierre\n",
      "Processing 31 of set 3:shimanovsk\n",
      "Processing 32 of set 3:kulgam\n",
      "Processing 33 of set 3:panzhihua\n",
      "Another one!\n",
      "Processing 34 of set 3:santa rosa\n",
      "Processing 35 of set 3:victoria\n",
      "Another one!\n",
      "Processing 36 of set 3:katsuura\n",
      "Processing 37 of set 3:nioro\n",
      "Processing 38 of set 3:aitape\n",
      "Processing 39 of set 3:beringovskiy\n",
      "Processing 40 of set 3:coihaique\n",
      "Processing 41 of set 3:santa rosalia\n"
     ]
    },
    {
     "name": "stdout",
     "output_type": "stream",
     "text": [
      "Processing 42 of set 3:lafia\n",
      "Processing 43 of set 3:ambovombe\n",
      "Processing 44 of set 3:port macquarie\n",
      "Processing 45 of set 3:saldanha\n",
      "Processing 46 of set 3:pyapon\n",
      "Processing 47 of set 3:sinnamary\n",
      "Processing 48 of set 3:roald\n",
      "Another one!\n",
      "Processing 49 of set 3:luderitz\n",
      "Processing 50 of set 3:toccoa\n",
      "Processing 51 of set 3:los llanos de aridane\n",
      "Processing 52 of set 3:cap malheureux\n",
      "Processing 53 of set 3:grand-lahou\n",
      "Processing 54 of set 3:laguna\n",
      "Processing 55 of set 3:yingcheng\n",
      "Processing 56 of set 3:kattivakkam\n",
      "Processing 57 of set 3:san quintin\n",
      "Processing 58 of set 3:ndele\n",
      "Processing 59 of set 3:burgersdorp\n",
      "Processing 60 of set 3:klaksvik\n",
      "Processing 61 of set 3:alofi\n",
      "Processing 62 of set 3:denpasar\n",
      "Processing 63 of set 3:clyde river\n",
      "Processing 64 of set 3:sibolga\n",
      "Processing 65 of set 3:mana\n",
      "Processing 66 of set 3:aripuana\n",
      "Processing 67 of set 3:bemidji\n",
      "Processing 68 of set 3:viedma\n",
      "Processing 69 of set 3:vidim\n",
      "Processing 70 of set 3:tarpa\n",
      "Processing 71 of set 3:wajima\n",
      "Processing 72 of set 3:padang\n",
      "Processing 73 of set 3:devils lake\n",
      "Processing 74 of set 3:aykhal\n",
      "Processing 75 of set 3:wana\n",
      "Processing 76 of set 3:misawa\n",
      "Processing 77 of set 3:hervey bay\n",
      "Processing 78 of set 3:ambunti\n",
      "Processing 79 of set 3:marzuq\n",
      "Processing 80 of set 3:oranjemund\n",
      "Processing 81 of set 3:kumluca\n",
      "Processing 82 of set 3:jutai\n",
      "Processing 83 of set 3:codrington\n",
      "Processing 84 of set 3:ustynivka\n",
      "Processing 85 of set 3:sao miguel do araguaia\n",
      "Processing 86 of set 3:zhuhai\n",
      "Processing 87 of set 3:hamilton\n",
      "Processing 88 of set 3:dabakala\n",
      "Processing 89 of set 3:kruisfontein\n",
      "Processing 90 of set 3:gigmoto\n",
      "Processing 91 of set 3:timmins\n",
      "Processing 92 of set 3:buala\n",
      "Processing 93 of set 3:kichera\n",
      "Processing 94 of set 3:kavaratti\n",
      "Processing 95 of set 3:aklavik\n",
      "Processing 96 of set 3:lae\n",
      "Processing 97 of set 3:finschhafen\n",
      "Processing 98 of set 3:esfahan\n",
      "Processing 99 of set 3:tura\n",
      "Processing 100 of set 3:loreto\n",
      "Processing 0 of set 4:almaznyy\n",
      "Processing 1 of set 4:karasuk\n",
      "Processing 2 of set 4:honiara\n",
      "Processing 3 of set 4:lasem\n",
      "Processing 4 of set 4:ketchikan\n",
      "Processing 5 of set 4:ilhabela\n",
      "Processing 6 of set 4:idil\n",
      "Processing 7 of set 4:bambous virieux\n",
      "Processing 8 of set 4:lompoc\n",
      "Another one!\n",
      "Processing 9 of set 4:santa catalina\n",
      "Processing 10 of set 4:lashio\n"
     ]
    }
   ],
   "source": [
    "print(f\"Beginning Data Retrieval\")\n",
    "print(f\"------------------------\")\n",
    "\n",
    "for city in cities:\n",
    "    try:\n",
    "        #time.sleep(1)\n",
    "\n",
    "        response=requests.get(query_url +city)\n",
    "        json_response=response.json()\n",
    "        #print(json.dumps(json_response, indent=4, sort_keys=True))\n",
    "        new_city.append(json_response[\"name\"])\n",
    "        lat.append(json_response[\"coord\"][\"lat\"])\n",
    "        lng.append(json_response[\"coord\"][\"lon\"])\n",
    "        max_temp.append(json_response[\"main\"][\"temp_max\"])\n",
    "        humidity.append(json_response[\"main\"][\"humidity\"])\n",
    "        cloudiness.append(json_response[\"clouds\"][\"all\"])\n",
    "        wind_speed.append(json_response[\"wind\"][\"speed\"])\n",
    "        country.append(json_response[\"sys\"][\"country\"])\n",
    "        date.append(json_response[\"dt\"])\n",
    "        if index_counter>99:\n",
    "            index_counter = 0\n",
    "            set_counter = set_counter + 1\n",
    "    \n",
    "        else:\n",
    "            index_counter = index_counter + 1\n",
    "        \n",
    "        print(f\"Processing {index_counter} of set {set_counter}:{city}\")\n",
    "    except KeyError:\n",
    "        print(\"Another one!\")\n",
    "print(f\"-------------------------------\")\n",
    "print(f\"Ending Data Retrieval\")"
   ]
  },
  {
   "cell_type": "code",
   "execution_count": null,
   "metadata": {},
   "outputs": [],
   "source": [
    "new_weather_df=pd.DataFrame({\"City\":new_city,\n",
    "                           \"Lat\":lat,\n",
    "                           \"Lng\":lng,\n",
    "                           \"Max Temp\":max_temp,\n",
    "                           \"Humidity\":humidity,\n",
    "                           \"Cloudiness\":cloudiness,\n",
    "                           \"Wind Speed\":wind_speed,\n",
    "                           \"Country\":country,\n",
    "                           \"Date\":date})\n",
    "new_weather_df.head()"
   ]
  },
  {
   "cell_type": "code",
   "execution_count": null,
   "metadata": {},
   "outputs": [],
   "source": [
    "new_weather_df.count()"
   ]
  },
  {
   "cell_type": "code",
   "execution_count": null,
   "metadata": {},
   "outputs": [],
   "source": [
    "new_weather_df.to_csv(\"../output_data/weather.csv\", index=False, header=True)"
   ]
  },
  {
   "cell_type": "code",
   "execution_count": null,
   "metadata": {},
   "outputs": [],
   "source": [
    "\n",
    "        "
   ]
  },
  {
   "cell_type": "markdown",
   "metadata": {},
   "source": [
    "## Inspect the data and remove the cities where the humidity > 100%.\n",
    "----\n",
    "Skip this step if there are no cities that have humidity > 100%. "
   ]
  },
  {
   "cell_type": "code",
   "execution_count": null,
   "metadata": {},
   "outputs": [],
   "source": [
    "new_weather2_df=new_weather_df.loc[new_weather_df[\"Humidity\"]<=100]\n",
    "new_weather2_df"
   ]
  },
  {
   "cell_type": "code",
   "execution_count": null,
   "metadata": {},
   "outputs": [],
   "source": [
    "new_weather2_df.describe()"
   ]
  },
  {
   "cell_type": "code",
   "execution_count": null,
   "metadata": {},
   "outputs": [],
   "source": [
    "#  Get the indices of cities that have humidity over 100%.\n",
    "cities_indicies=new_weather_df.loc[new_weather_df[\"Humidity\"]>100].index\n",
    "cities_indicies\n"
   ]
  },
  {
   "cell_type": "code",
   "execution_count": null,
   "metadata": {},
   "outputs": [],
   "source": [
    "# Make a new DataFrame equal to the city data to drop all humidity outliers by index.\n",
    "# Passing \"inplace=False\" will make a copy of the city_data DataFrame, which we call \"clean_city_data\".\n",
    "\n",
    "\n",
    "humidity_out=new_weather_df[\"Humidity\"]\n",
    "humidity_out\n",
    "quartiles= humidity_out.quantile([.25,.5,.75])\n",
    "lowerquartile=quartiles[0.25]\n",
    "upperquartile=quartiles[0.75]\n",
    "iqr=upperquartile-lowerquartile\n",
    "#Determine the outlier using the upper and lower bound\n",
    "humidity_lower_bound=lowerquartile - (1.5*iqr)\n",
    "humidity_upper_bound=upperquartile + (1.5*iqr)\n",
    "print(f\"{humidity_lower_bound} and {humidity_upper_bound} are the outliers\")\n",
    "\n",
    "outliers_indexes=new_weather_df.loc[(new_weather_df[\"Humidity\"]<humidity_lower_bound) & (new_weather_df[\"Humidity\"]>humidity_upper_bound)].index\n",
    "outliers_indexes\n",
    "\n",
    "\n",
    "\n",
    "clean_city_data = new_weather_df.drop(outliers_indexes, inplace=False)\n",
    "fresh_data=clean_city_data.sort_values(\"Humidity\", ascending=False)\n",
    "fresh_data\n"
   ]
  },
  {
   "cell_type": "code",
   "execution_count": null,
   "metadata": {},
   "outputs": [],
   "source": [
    "#This is my own method and it's working \n",
    "\n",
    "humidity_out=new_weather_df[\"Humidity\"]\n",
    "humidity_out\n",
    "quartiles= humidity_out.quantile([.25,.5,.75])\n",
    "lowerquartile=quartiles[0.25]\n",
    "upperquartile=quartiles[0.75]\n",
    "iqr=upperquartile-lowerquartile\n",
    "#Determine the outlier using the upper and lower bound\n",
    "humidity_lower_bound=lowerquartile - (1.5*iqr)\n",
    "humidity_upper_bound=upperquartile + (1.5*iqr)\n",
    "print(f\"{humidity_lower_bound} and {humidity_upper_bound} are the outliers\")\n",
    "\n",
    "new_day_df=new_weather_df.loc[(new_weather_df[\"Humidity\"]>humidity_lower_bound) & (new_weather_df[\"Humidity\"]<humidity_upper_bound)]\n",
    "new_day_df=new_day_df.sort_values(\"Humidity\",ascending=False)\n",
    "new_day_df"
   ]
  },
  {
   "cell_type": "code",
   "execution_count": null,
   "metadata": {},
   "outputs": [],
   "source": [
    "# Extract relevant fields from the data frame\n",
    "extract_data=new_day_df[[\"Lat\",\"Max Temp\",\"Humidity\",\"Cloudiness\",\"Wind Speed\"]]\n",
    "extract_data\n"
   ]
  },
  {
   "cell_type": "code",
   "execution_count": null,
   "metadata": {},
   "outputs": [],
   "source": [
    "# Export the City_Data into a csv\n",
    "extract_data.to_csv(\"../output_data/extra.csv\",index=False, header=True)"
   ]
  },
  {
   "cell_type": "markdown",
   "metadata": {},
   "source": [
    "## Plotting the Data\n",
    "* Use proper labeling of the plots using plot titles (including date of analysis) and axes labels.\n",
    "* Save the plotted figures as .pngs."
   ]
  },
  {
   "cell_type": "markdown",
   "metadata": {},
   "source": [
    "## Latitude vs. Temperature Plot"
   ]
  },
  {
   "cell_type": "code",
   "execution_count": null,
   "metadata": {
    "scrolled": true
   },
   "outputs": [],
   "source": [
    "plt.scatter(extract_data['Lat'],extract_data['Max Temp'])\n",
    "plt.xlabel('Latitude')\n",
    "plt.ylabel('Max Temperature (f)')\n",
    "plt.title(\"Latitude vs Max Temp\")\n",
    "\n",
    "#Set grid line\n",
    "plt.grid(linestyle='-', linewidth=1, alpha = 0.5)\n",
    "\n",
    "#Save the plotted figure as .pngs\n",
    "plt.savefig(\"../Images/Latitude vs Max Temp.png\")\n",
    "\n",
    "plt.show()"
   ]
  },
  {
   "cell_type": "markdown",
   "metadata": {},
   "source": [
    "## Latitude vs. Humidity Plot"
   ]
  },
  {
   "cell_type": "code",
   "execution_count": null,
   "metadata": {},
   "outputs": [],
   "source": [
    "plt.scatter(extract_data['Lat'],extract_data['Humidity'])\n",
    "plt.xlabel('Latitude')\n",
    "plt.ylabel('Humidity (%)')\n",
    "plt.title(\"Latitude vs Humidity\")\n",
    "#Set grid line\n",
    "plt.grid(linestyle='-', linewidth=1, alpha = 0.5)\n",
    "\n",
    "#Save the plotted figure as .pngs\n",
    "plt.savefig(\"../Images/Latitude vs Humidity.png\")\n",
    "\n",
    "plt.show()"
   ]
  },
  {
   "cell_type": "markdown",
   "metadata": {},
   "source": [
    "## Latitude vs. Cloudiness Plot"
   ]
  },
  {
   "cell_type": "code",
   "execution_count": null,
   "metadata": {},
   "outputs": [],
   "source": [
    "plt.scatter(extract_data['Lat'],extract_data['Cloudiness'])\n",
    "plt.xlabel('Latitude')\n",
    "plt.ylabel('Cloudiness (%)')\n",
    "plt.title(\"Latitude vs Cloudiness\")\n",
    "#Set grid line\n",
    "plt.grid(linestyle='-', linewidth=1, alpha = 0.5)\n",
    "\n",
    "#Save the plotted figure as .pngs\n",
    "plt.savefig(\"../Images/Latitude vs Cloudiness.png\")\n",
    "\n",
    "plt.show()"
   ]
  },
  {
   "cell_type": "markdown",
   "metadata": {},
   "source": [
    "## Latitude vs. Wind Speed Plot"
   ]
  },
  {
   "cell_type": "code",
   "execution_count": null,
   "metadata": {},
   "outputs": [],
   "source": [
    "plt.scatter(extract_data['Lat'],extract_data['Wind Speed'])\n",
    "plt.xlabel('Latitude')\n",
    "plt.ylabel('Wind Speed (mph)')\n",
    "plt.title(\"Latitude vs Wind Speed\")\n",
    "#Set grid line\n",
    "plt.grid(linestyle='-', linewidth=1, alpha = 0.5)\n",
    "\n",
    "#Save the plotted figure as .pngs\n",
    "plt.savefig(\"../Images/Latitude vs Wind Speed.png\")\n",
    "\n",
    "plt.show()"
   ]
  },
  {
   "cell_type": "markdown",
   "metadata": {},
   "source": [
    "## Linear Regression"
   ]
  },
  {
   "cell_type": "code",
   "execution_count": null,
   "metadata": {},
   "outputs": [],
   "source": [
    "northern_hemisphere=extract_data.loc[extract_data[\"Lat\"]>=0]\n",
    "northern_hemisphere"
   ]
  },
  {
   "cell_type": "code",
   "execution_count": null,
   "metadata": {},
   "outputs": [],
   "source": [
    "southern_hemisphere=extract_data.loc[clean_city_data[\"Lat\"]<0]\n",
    "southern_hemisphere"
   ]
  },
  {
   "cell_type": "markdown",
   "metadata": {},
   "source": [
    "####  Northern Hemisphere - Max Temp vs. Latitude Linear Regression"
   ]
  },
  {
   "cell_type": "code",
   "execution_count": null,
   "metadata": {},
   "outputs": [],
   "source": [
    "st.linregress(northern_hemisphere[\"Lat\"],northern_hemisphere[\"Max Temp\"])\n",
    "\n",
    "x_values = northern_hemisphere[\"Lat\"]\n",
    "y_values = northern_hemisphere[\"Max Temp\"]\n",
    "(slope, intercept, rvalue, pvalue, stderr) = linregress(x_values, y_values)\n",
    "regress_values = x_values * slope + intercept\n",
    "line_eq = \"y = \" + str(round(slope,2)) + \"x + \" + str(round(intercept,2))\n",
    "plt.scatter(x_values,y_values)\n",
    "plt.plot(x_values,regress_values,\"r-\")\n",
    "plt.annotate(line_eq,(10,280),fontsize=15,color=\"red\")\n",
    "plt.xlabel('Latitude')\n",
    "plt.ylabel('Max Temp')\n",
    "plt.title(\"Northern Hemisphere- Max Temp vs. Latitude Linear Regression\")\n",
    "plt.show()\n",
    "plt.savefig(\"../Images/Northern Hemisphere - Max Temp vs. Latitude Linear Regression.png\")\n",
    "%matplotlib inline"
   ]
  },
  {
   "cell_type": "markdown",
   "metadata": {},
   "source": [
    "####  Southern Hemisphere - Max Temp vs. Latitude Linear Regression"
   ]
  },
  {
   "cell_type": "code",
   "execution_count": null,
   "metadata": {},
   "outputs": [],
   "source": [
    "st.linregress(southern_hemisphere[\"Lat\"],southern_hemisphere[\"Max Temp\"])\n",
    "\n",
    "x_values = southern_hemisphere[\"Lat\"]\n",
    "y_values = southern_hemisphere[\"Max Temp\"]\n",
    "(slope, intercept, rvalue, pvalue, stderr) = linregress(x_values, y_values)\n",
    "regress_values = x_values * slope + intercept\n",
    "line_eq = \"y = \" + str(round(slope,2)) + \"x + \" + str(round(intercept,2))\n",
    "plt.scatter(x_values,y_values)\n",
    "plt.plot(x_values,regress_values,\"r-\")\n",
    "plt.annotate(line_eq,(-50,280),fontsize=15,color=\"red\")\n",
    "plt.xlabel('Latitude')\n",
    "plt.ylabel('Max Temp')\n",
    "plt.title(\"Southern Hemisphere- Max Temp vs. Latitude Linear Regression\")\n",
    "plt.show()\n",
    "plt.savefig(\"../Images/Sorthern Hemisphere - Max Temp vs. Latitude Linear Regression.png\")\n",
    "%matplotlib inline"
   ]
  },
  {
   "cell_type": "markdown",
   "metadata": {},
   "source": [
    "####  Northern Hemisphere - Humidity (%) vs. Latitude Linear Regression"
   ]
  },
  {
   "cell_type": "code",
   "execution_count": null,
   "metadata": {},
   "outputs": [],
   "source": [
    "st.linregress(northern_hemisphere[\"Lat\"],northern_hemisphere[\"Humidity\"])\n",
    "\n",
    "x_values = northern_hemisphere[\"Lat\"]\n",
    "y_values = northern_hemisphere[\"Humidity\"]\n",
    "(slope, intercept, rvalue, pvalue, stderr) = linregress(x_values, y_values)\n",
    "regress_values = x_values * slope + intercept\n",
    "line_eq = \"y = \" + str(round(slope,2)) + \"x + \" + str(round(intercept,2))\n",
    "plt.scatter(x_values,y_values)\n",
    "plt.plot(x_values,regress_values,\"r-\")\n",
    "plt.annotate(line_eq,(10,20),fontsize=15,color=\"red\")\n",
    "plt.xlabel('Latitude')\n",
    "plt.ylabel('Humidity')\n",
    "plt.title(\"Northern Hemisphere- Humidity vs. Latitude Linear Regression\")\n",
    "plt.show()\n",
    "plt.savefig(\"../Images/Northern Hemisphere - Humidity vs. Latitude Linear Regression.png\")\n",
    "%matplotlib inline"
   ]
  },
  {
   "cell_type": "markdown",
   "metadata": {},
   "source": [
    "####  Southern Hemisphere - Humidity (%) vs. Latitude Linear Regression"
   ]
  },
  {
   "cell_type": "code",
   "execution_count": null,
   "metadata": {},
   "outputs": [],
   "source": [
    "st.linregress(southern_hemisphere[\"Lat\"],southern_hemisphere[\"Humidity\"])\n",
    "\n",
    "x_values = southern_hemisphere[\"Lat\"]\n",
    "y_values = southern_hemisphere[\"Humidity\"]\n",
    "(slope, intercept, rvalue, pvalue, stderr) = linregress(x_values, y_values)\n",
    "regress_values = x_values * slope + intercept\n",
    "line_eq = \"y = \" + str(round(slope,2)) + \"x + \" + str(round(intercept,2))\n",
    "plt.scatter(x_values,y_values)\n",
    "plt.plot(x_values,regress_values,\"r-\")\n",
    "plt.annotate(line_eq,(-50,20),fontsize=15,color=\"red\")\n",
    "plt.xlabel('Latitude')\n",
    "plt.ylabel('Humidity')\n",
    "plt.title(\"Southern Hemisphere- Humidity vs. Latitude Linear Regression\")\n",
    "plt.show()\n",
    "plt.savefig(\"../Images/Sorthern Hemisphere - Humidity vs. Latitude Linear Regression.png\")\n",
    "%matplotlib inline"
   ]
  },
  {
   "cell_type": "markdown",
   "metadata": {},
   "source": [
    "####  Northern Hemisphere - Cloudiness (%) vs. Latitude Linear Regression"
   ]
  },
  {
   "cell_type": "code",
   "execution_count": null,
   "metadata": {},
   "outputs": [],
   "source": [
    "st.linregress(northern_hemisphere[\"Lat\"],northern_hemisphere[\"Cloudiness\"])\n",
    "\n",
    "x_values = northern_hemisphere[\"Lat\"]\n",
    "y_values = northern_hemisphere[\"Cloudiness\"]\n",
    "(slope, intercept, rvalue, pvalue, stderr) = linregress(x_values, y_values)\n",
    "regress_values = x_values * slope + intercept\n",
    "line_eq = \"y = \" + str(round(slope,2)) + \"x + \" + str(round(intercept,2))\n",
    "plt.scatter(x_values,y_values)\n",
    "plt.plot(x_values,regress_values,\"r-\")\n",
    "plt.annotate(line_eq,(10,10),fontsize=15,color=\"red\")\n",
    "plt.xlabel('Latitude')\n",
    "plt.ylabel('Cloudiness')\n",
    "plt.title(\"Northern Hemisphere- Cloudiness vs. Latitude Linear Regression\")\n",
    "plt.show()\n",
    "plt.savefig(\"../Images/Northern Hemisphere - Cloudiness vs. Latitude Linear Regression.png\")\n",
    "%matplotlib inline"
   ]
  },
  {
   "cell_type": "markdown",
   "metadata": {},
   "source": [
    "####  Southern Hemisphere - Cloudiness (%) vs. Latitude Linear Regression"
   ]
  },
  {
   "cell_type": "code",
   "execution_count": null,
   "metadata": {},
   "outputs": [],
   "source": [
    "st.linregress(southern_hemisphere[\"Lat\"],southern_hemisphere[\"Cloudiness\"])\n",
    "\n",
    "x_values = southern_hemisphere[\"Lat\"]\n",
    "y_values = southern_hemisphere[\"Cloudiness\"]\n",
    "(slope, intercept, rvalue, pvalue, stderr) = linregress(x_values, y_values)\n",
    "regress_values = x_values * slope + intercept\n",
    "line_eq = \"y = \" + str(round(slope,2)) + \"x + \" + str(round(intercept,2))\n",
    "plt.scatter(x_values,y_values)\n",
    "plt.plot(x_values,regress_values,\"r-\")\n",
    "plt.annotate(line_eq,(-50,20),fontsize=15,color=\"red\")\n",
    "plt.xlabel('Latitude')\n",
    "plt.ylabel('Cloudiness')\n",
    "plt.title(\"Southern Hemisphere- Cloudiness vs. Latitude Linear Regression\")\n",
    "plt.show()\n",
    "plt.savefig(\"../Images/Southern Hemisphere - Cloudiness vs. Latitude Linear Regression.png\")\n",
    "%matplotlib inline"
   ]
  },
  {
   "cell_type": "markdown",
   "metadata": {},
   "source": [
    "####  Northern Hemisphere - Wind Speed (mph) vs. Latitude Linear Regression"
   ]
  },
  {
   "cell_type": "code",
   "execution_count": null,
   "metadata": {},
   "outputs": [],
   "source": [
    "st.linregress(northern_hemisphere[\"Lat\"],northern_hemisphere[\"Wind Speed\"])\n",
    "\n",
    "x_values = northern_hemisphere[\"Lat\"]\n",
    "y_values = northern_hemisphere[\"Wind Speed\"]\n",
    "(slope, intercept, rvalue, pvalue, stderr) = linregress(x_values, y_values)\n",
    "regress_values = x_values * slope + intercept\n",
    "line_eq = \"y = \" + str(round(slope,2)) + \"x + \" + str(round(intercept,2))\n",
    "plt.scatter(x_values,y_values)\n",
    "plt.plot(x_values,regress_values,\"r-\")\n",
    "plt.annotate(line_eq,(10,7.5),fontsize=15,color=\"red\")\n",
    "plt.xlabel('Latitude')\n",
    "plt.ylabel('Wind Speed')\n",
    "plt.title(\"Northern Hemisphere- Wind Speed vs. Latitude Linear Regression\")\n",
    "plt.show()\n",
    "plt.savefig(\"../Images/Northern Hemisphere - Wind Speed vs. Latitude Linear Regression.png\")\n",
    "%matplotlib inline"
   ]
  },
  {
   "cell_type": "markdown",
   "metadata": {},
   "source": [
    "####  Southern Hemisphere - Wind Speed (mph) vs. Latitude Linear Regression"
   ]
  },
  {
   "cell_type": "code",
   "execution_count": null,
   "metadata": {
    "scrolled": true
   },
   "outputs": [],
   "source": [
    "st.linregress(southern_hemisphere[\"Lat\"],southern_hemisphere[\"Wind Speed\"])\n",
    "\n",
    "x_values = southern_hemisphere[\"Lat\"]\n",
    "y_values = southern_hemisphere[\"Wind Speed\"]\n",
    "(slope, intercept, rvalue, pvalue, stderr) = linregress(x_values, y_values)\n",
    "regress_values = x_values * slope + intercept\n",
    "line_eq = \"y = \" + str(round(slope,2)) + \"x + \" + str(round(intercept,2))\n",
    "plt.scatter(x_values,y_values)\n",
    "plt.plot(x_values,regress_values,\"r-\")\n",
    "plt.annotate(line_eq,(-50,5),fontsize=15,color=\"red\")\n",
    "plt.xlabel('Latitude')\n",
    "plt.ylabel('Wind Speed')\n",
    "plt.title(\"Southern Hemisphere- Wind Speed vs. Latitude Linear Regression\")\n",
    "plt.show()\n",
    "plt.savefig(\"../Images/Southern Hemisphere - Wind Speed vs. Latitude Linear Regression.png\")\n",
    "%matplotlib inline"
   ]
  },
  {
   "cell_type": "code",
   "execution_count": null,
   "metadata": {},
   "outputs": [],
   "source": []
  }
 ],
 "metadata": {
  "anaconda-cloud": {},
  "kernel_info": {
   "name": "python3"
  },
  "kernelspec": {
   "display_name": "Python 3",
   "language": "python",
   "name": "python3"
  },
  "language_info": {
   "codemirror_mode": {
    "name": "ipython",
    "version": 3
   },
   "file_extension": ".py",
   "mimetype": "text/x-python",
   "name": "python",
   "nbconvert_exporter": "python",
   "pygments_lexer": "ipython3",
   "version": "3.7.6"
  },
  "latex_envs": {
   "LaTeX_envs_menu_present": true,
   "autoclose": false,
   "autocomplete": true,
   "bibliofile": "biblio.bib",
   "cite_by": "apalike",
   "current_citInitial": 1,
   "eqLabelWithNumbers": true,
   "eqNumInitial": 1,
   "hotkeys": {
    "equation": "Ctrl-E",
    "itemize": "Ctrl-I"
   },
   "labels_anchors": false,
   "latex_user_defs": false,
   "report_style_numbering": false,
   "user_envs_cfg": false
  },
  "nteract": {
   "version": "0.12.3"
  }
 },
 "nbformat": 4,
 "nbformat_minor": 2
}
